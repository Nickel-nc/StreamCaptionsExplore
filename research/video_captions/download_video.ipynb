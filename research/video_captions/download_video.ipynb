{
 "cells": [
  {
   "cell_type": "code",
   "execution_count": 19,
   "metadata": {},
   "outputs": [],
   "source": [
    "import os\n",
    "from pytube import YouTube\n",
    "import ntpath\n",
    "from tqdm import tqdm"
   ]
  },
  {
   "cell_type": "code",
   "execution_count": 20,
   "metadata": {},
   "outputs": [],
   "source": [
    "def download_video(video_id: str, destination_path: str, ext=\"mp4\") -> str:\n",
    "    yt = YouTube('https://www.youtube.com/watch?v='+video_id, use_oauth=False)\n",
    "    \n",
    "    if not os.path.exists(destination_path):\n",
    "        os.makedirs(destination_path)\n",
    "    file_path = yt.streams.filter(file_extension=ext, res=\"720p\").first().download(destination_path)\n",
    "    dest_fp = f\"{destination_path}/{video_id}.{ext}\"\n",
    "    os.rename(file_path, dest_fp)\n",
    "    return dest_fp"
   ]
  },
  {
   "cell_type": "code",
   "execution_count": 21,
   "metadata": {},
   "outputs": [],
   "source": [
    "# TODO. Read links from file\n",
    "\n",
    "data_folder = 'data/raw_videos'\n",
    "\n",
    "links = [\n",
    "    'nVbIUDjzWY4',\n",
    "    'rwmt7Cbuvfs',\n",
    "    'HnTLh99gcxY',\n",
    "    'EyP3HVhg1u0',\n",
    "        ]"
   ]
  },
  {
   "cell_type": "code",
   "execution_count": 22,
   "metadata": {},
   "outputs": [
    {
     "name": "stderr",
     "output_type": "stream",
     "text": [
      "100%|████████████████████████████████████████████████████████████████████████████████████| 4/4 [01:15<00:00, 18.91s/it]\n"
     ]
    }
   ],
   "source": [
    "with open('data/video_filepaths.txt', 'w') as f:\n",
    "    for url in tqdm(links):\n",
    "        fp = download_video(url, data_folder)\n",
    "        f.write(ntpath.basename(fp+'\\n')"
   ]
  },
  {
   "cell_type": "code",
   "execution_count": null,
   "metadata": {},
   "outputs": [],
   "source": []
  }
 ],
 "metadata": {
  "kernelspec": {
   "display_name": "Python 3 (ipykernel)",
   "language": "python",
   "name": "python3"
  },
  "language_info": {
   "codemirror_mode": {
    "name": "ipython",
    "version": 3
   },
   "file_extension": ".py",
   "mimetype": "text/x-python",
   "name": "python",
   "nbconvert_exporter": "python",
   "pygments_lexer": "ipython3",
   "version": "3.9.13"
  }
 },
 "nbformat": 4,
 "nbformat_minor": 4
}
