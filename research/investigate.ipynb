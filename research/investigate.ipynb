{
 "cells": [
  {
   "cell_type": "markdown",
   "id": "ec7ec285-e85e-476f-a4cb-f58321248784",
   "metadata": {},
   "source": [
    "In this research need to solve problem: <b>Video -> Text</b>."
   ]
  },
  {
   "cell_type": "markdown",
   "id": "23432b28-fd07-46f4-be83-309c61574b7b",
   "metadata": {},
   "source": [
    "# Image Captioning\n",
    "\n",
    "With the [CLIP prefix captioning repo](https://github.com/rmokady/CLIP_prefix_caption), the feature vectors from CLIP have been wired into GPT-2 to output an English description for a given image.\n",
    "\n",
    "\n",
    "### COCO Examples\n",
    "\n",
    "<table>\n",
    "  <tr>\n",
    "    <td><img src=\"https://github.com/rmokady/CLIP_prefix_caption/raw/main/Images/COCO_val2014_000000562207.jpg\"></td>\n",
    "    <td><img src=\"https://github.com/rmokady/CLIP_prefix_caption/raw/main/Images/COCO_val2014_000000165547.jpg\"></td>\n",
    "    <td><img src=\"https://github.com/rmokady/CLIP_prefix_caption/raw/main/Images/COCO_val2014_000000579664.jpg\"></td>\n",
    "  </tr>\n",
    "  <tr>\n",
    "    <td>A couple of people standing next to an elephant. </td>\n",
    "     <td>A wooden table sitting in front of a window.</td>\n",
    "     <td>A bunch of bananas sitting on top of a table.</td>\n",
    "  </tr>\n",
    " </table>\n",
    " \n",
    " <table>\n",
    "  <tr>\n",
    "    <td><img src=\"https://github.com/rmokady/CLIP_prefix_caption/raw/main/Images/COCO_val2014_000000060623.jpg\"></td>\n",
    "    <td><img src=\"https://github.com/rmokady/CLIP_prefix_caption/raw/main/Images/COCO_val2014_000000386164.jpg\"></td>\n",
    "    <td><img src=\"https://github.com/rmokady/CLIP_prefix_caption/raw/main/Images/COCO_val2014_000000354533.jpg\"></td>\n",
    "  </tr>\n",
    "  <tr>\n",
    "    <td>A woman holding a plate with a piece of cake in front of her face. </td>\n",
    "     <td>A wooden table topped with lots of wooden utensils.</td>\n",
    "     <td>A red motorcycle parked on top of a dirt field.</td>\n",
    "  </tr>\n",
    " </table>\n",
    "\n",
    "<center>An exanple of <b>Captions from CLIP + GPT2</b>.<center>"
   ]
  },
  {
   "cell_type": "code",
   "execution_count": null,
   "id": "fe7c6c77-9d93-4cb1-bab0-9d72e46b3d12",
   "metadata": {},
   "outputs": [],
   "source": [
    "..."
   ]
  },
  {
   "cell_type": "markdown",
   "id": "22c3b321-1d0c-409c-b28d-e54b079ce07d",
   "metadata": {},
   "source": [
    "# Video Captioning"
   ]
  },
  {
   "cell_type": "code",
   "execution_count": null,
   "id": "ac2355ad-4762-4c14-b6ce-91314f275d38",
   "metadata": {},
   "outputs": [],
   "source": [
    "..."
   ]
  }
 ],
 "metadata": {
  "kernelspec": {
   "display_name": "Python 3 (ipykernel)",
   "language": "python",
   "name": "python3"
  },
  "language_info": {
   "codemirror_mode": {
    "name": "ipython",
    "version": 3
   },
   "file_extension": ".py",
   "mimetype": "text/x-python",
   "name": "python",
   "nbconvert_exporter": "python",
   "pygments_lexer": "ipython3",
   "version": "3.9.13"
  }
 },
 "nbformat": 4,
 "nbformat_minor": 5
}
